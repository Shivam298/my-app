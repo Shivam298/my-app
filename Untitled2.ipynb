{
 "cells": [
  {
   "cell_type": "code",
   "execution_count": 5,
   "id": "08c5c1e0-316a-48ac-8398-5ba7a1c53408",
   "metadata": {},
   "outputs": [
    {
     "name": "stdout",
     "output_type": "stream",
     "text": [
      "15\n"
     ]
    }
   ],
   "source": [
    "def function1(*num1):\n",
    "    print(sum(num1))\n",
    "function1(1,2,3,4,5)    "
   ]
  },
  {
   "cell_type": "code",
   "execution_count": 6,
   "id": "9769bc32-4b4e-4f49-a497-7c9298effcab",
   "metadata": {},
   "outputs": [
    {
     "data": {
      "text/plain": [
       "6"
      ]
     },
     "execution_count": 6,
     "metadata": {},
     "output_type": "execute_result"
    }
   ],
   "source": [
    "lambda1=lambda a,b:a+b\n",
    "lambda1(2,4)"
   ]
  },
  {
   "cell_type": "code",
   "execution_count": null,
   "id": "b27dd077-6cb8-43d5-b8db-da33484a27f9",
   "metadata": {},
   "outputs": [],
   "source": [
    "def tax(inc):\n",
    "    slab0=0\n",
    "    slab1=(500000-250000)*0.05\n",
    "    slab2=(1000000-500000)*0.1\n",
    "    slab3=(2000000-1000000)*0.2\n",
    "    if(0<inc and inc<250000):\n",
    "        print(\"no tax\")\n",
    "    elif(250000<inc and inc<500000):\n",
    "        print(\"Tax is\","
   ]
  },
  {
   "cell_type": "code",
   "execution_count": 9,
   "id": "46e63cdf-21dc-4e8a-b627-abb2bf9c90c3",
   "metadata": {},
   "outputs": [
    {
     "name": "stdin",
     "output_type": "stream",
     "text": [
      "enter number 1 2\n",
      "enter number 2 3\n"
     ]
    },
    {
     "name": "stdout",
     "output_type": "stream",
     "text": [
      "2 * 0 = 0\n",
      "2 * 1 = 2\n",
      "2 * 2 = 4\n",
      "2 * 3 = 6\n"
     ]
    }
   ],
   "source": [
    "class Computer:\n",
    "    def __init__(self):\n",
    "        self.__maxprice=900\n",
    "    def sell(self):\n",
    "        print(\"Selling price: {}\".format(self.__maxprice))\n",
    "    def setMaxPrice(self,price):\n",
    "        self.__maxprice=price\n",
    "a=Computer()\n",
    "a.sell()\n",
    "a.setMaxPrice(1000)\n",
    "a.sell()"
   ]
  }
 ],
 "metadata": {
  "kernelspec": {
   "display_name": "Python 3 (ipykernel)",
   "language": "python",
   "name": "python3"
  },
  "language_info": {
   "codemirror_mode": {
    "name": "ipython",
    "version": 3
   },
   "file_extension": ".py",
   "mimetype": "text/x-python",
   "name": "python",
   "nbconvert_exporter": "python",
   "pygments_lexer": "ipython3",
   "version": "3.12.0"
  }
 },
 "nbformat": 4,
 "nbformat_minor": 5
}
