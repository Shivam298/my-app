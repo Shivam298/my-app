{
 "cells": [
  {
   "cell_type": "code",
   "execution_count": 4,
   "id": "24539c23-fa14-407b-8848-3fa0a15433fd",
   "metadata": {},
   "outputs": [
    {
     "name": "stdin",
     "output_type": "stream",
     "text": [
      "enter file name try\n",
      "enter message for file suck me\n"
     ]
    }
   ],
   "source": [
    "file=input(\"enter file name\")\n",
    "mess=input(\"enter message for file\")\n",
    "type(file)\n",
    "f=open(file+\".txt\",\"a\")\n",
    "f.write(mess)\n",
    "f.close()"
   ]
  },
  {
   "cell_type": "code",
   "execution_count": null,
   "id": "60f2662f-4cf2-4481-90cf-3ec6c0e0a895",
   "metadata": {},
   "outputs": [],
   "source": [
    "file=input(\"enter file name\")\n",
    "mess=input(\"enter message for file\")\n",
    "type(file)\n",
    "f=open(file+\".txt\",\"a\")\n",
    "f.write(mess)\n",
    "f.close()"
   ]
  },
  {
   "cell_type": "code",
   "execution_count": 10,
   "id": "9b646126-9230-411f-9b98-59509377a771",
   "metadata": {},
   "outputs": [
    {
     "name": "stdin",
     "output_type": "stream",
     "text": [
      "enter 1st number 23\n",
      "enter 2nd number 23\n",
      "enter 3rd number 23\n"
     ]
    },
    {
     "name": "stdout",
     "output_type": "stream",
     "text": [
      "23\n"
     ]
    }
   ],
   "source": [
    "n1=int(input(\"enter 1st number\"))\n",
    "n2=int(input(\"enter 2nd number\"))\n",
    "n3=int(input(\"enter 3rd number\"))\n",
    "if(n1<n2):\n",
    "    if(n2<n3):\n",
    "        print(n3)\n",
    "    else:\n",
    "        print(n2)\n",
    "else:\n",
    "    if(n1<n3):\n",
    "        print(n3)\n",
    "    else:\n",
    "        print(n1)\n",
    "\n",
    "    "
   ]
  },
  {
   "cell_type": "code",
   "execution_count": 12,
   "id": "a8146715-9efb-4a8b-907e-f25c290b6ec7",
   "metadata": {},
   "outputs": [
    {
     "data": {
      "text/plain": [
       "[1, 2, 3, 4]"
      ]
     },
     "execution_count": 12,
     "metadata": {},
     "output_type": "execute_result"
    }
   ],
   "source": [
    "list_1=[1,2,3,4,2,2]\n",
    "list_1[:4]"
   ]
  },
  {
   "cell_type": "code",
   "execution_count": 16,
   "id": "ac7b1271-1a49-4353-a4b5-abd2406705bd",
   "metadata": {},
   "outputs": [
    {
     "name": "stdout",
     "output_type": "stream",
     "text": [
      "[23, 4, 5, 9]\n"
     ]
    }
   ],
   "source": [
    "list_1=[1,2,3,4,5,6,7,\"adarsh\",[23,32]]\n",
    "list_1[-1][0]\n",
    "list_2=[23,4,5,9]\n",
    "list_1=list_2\n",
    "print(list_1)"
   ]
  },
  {
   "cell_type": "code",
   "execution_count": null,
   "id": "49a44d45-2118-4c47-8b35-4471641cf186",
   "metadata": {},
   "outputs": [],
   "source": [
    "list_1"
   ]
  },
  {
   "cell_type": "code",
   "execution_count": 17,
   "id": "b2a1a372-452d-418c-a067-a01b50b08c99",
   "metadata": {},
   "outputs": [
    {
     "data": {
      "text/plain": [
       "[23, 4, 5, 9]"
      ]
     },
     "execution_count": 17,
     "metadata": {},
     "output_type": "execute_result"
    }
   ],
   "source": [
    "list_1"
   ]
  },
  {
   "cell_type": "code",
   "execution_count": 19,
   "id": "967f6b54-da51-45e2-913a-7b441e27316d",
   "metadata": {},
   "outputs": [
    {
     "data": {
      "text/plain": [
       "[23, 4, 5, 9, 4]"
      ]
     },
     "execution_count": 19,
     "metadata": {},
     "output_type": "execute_result"
    }
   ],
   "source": [
    "list_1.append(4)\n",
    "list_1"
   ]
  },
  {
   "cell_type": "code",
   "execution_count": 23,
   "id": "a379ff73-58b4-4535-8db3-25af86ff5105",
   "metadata": {},
   "outputs": [
    {
     "data": {
      "text/plain": [
       "[423, 404, 405, 409, 404]"
      ]
     },
     "execution_count": 23,
     "metadata": {},
     "output_type": "execute_result"
    }
   ],
   "source": [
    "list_1=[i+100 for i in list_1]\n",
    "list_1"
   ]
  },
  {
   "cell_type": "code",
   "execution_count": 25,
   "id": "80a2164e-eed0-45da-9019-b08125ec3be6",
   "metadata": {},
   "outputs": [
    {
     "data": {
      "text/plain": [
       "[423, 404, 405, 409, 404]"
      ]
     },
     "execution_count": 25,
     "metadata": {},
     "output_type": "execute_result"
    }
   ],
   "source": [
    "list_1"
   ]
  },
  {
   "cell_type": "code",
   "execution_count": 26,
   "id": "bfa7ea53-4e68-4f53-b302-10f497b1c740",
   "metadata": {},
   "outputs": [
    {
     "data": {
      "text/plain": [
       "404"
      ]
     },
     "execution_count": 26,
     "metadata": {},
     "output_type": "execute_result"
    }
   ],
   "source": [
    "list_1[1]"
   ]
  },
  {
   "cell_type": "code",
   "execution_count": 30,
   "id": "7edd529a-9575-428c-b06e-b92e6ada2bae",
   "metadata": {},
   "outputs": [
    {
     "data": {
      "text/plain": [
       "5"
      ]
     },
     "execution_count": 30,
     "metadata": {},
     "output_type": "execute_result"
    }
   ],
   "source": [
    "len(list_1)"
   ]
  },
  {
   "cell_type": "code",
   "execution_count": 32,
   "id": "9481f521-78fe-4a51-8f63-e87634d991b4",
   "metadata": {},
   "outputs": [
    {
     "data": {
      "text/plain": [
       "{}"
      ]
     },
     "execution_count": 32,
     "metadata": {},
     "output_type": "execute_result"
    }
   ],
   "source": [
    "emp1=dict()\n",
    "emp1"
   ]
  },
  {
   "cell_type": "code",
   "execution_count": 33,
   "id": "63f0c106-27af-4e16-bcf2-7c8e1130a6be",
   "metadata": {},
   "outputs": [
    {
     "data": {
      "text/plain": [
       "'adarsh'"
      ]
     },
     "execution_count": 33,
     "metadata": {},
     "output_type": "execute_result"
    }
   ],
   "source": [
    "emp1[1]=\"adarsh\"\n",
    "emp1[1]"
   ]
  },
  {
   "cell_type": "code",
   "execution_count": 36,
   "id": "583b89d1-082d-4926-825b-257849239558",
   "metadata": {},
   "outputs": [
    {
     "name": "stdout",
     "output_type": "stream",
     "text": [
      "1\n",
      "2\n",
      "3\n"
     ]
    }
   ],
   "source": [
    "emp1[2]=\"priyansh\"\n",
    "emp1[3]=\"shivam\"\n",
    "for i in emp1.keys():\n",
    "    print(i)"
   ]
  },
  {
   "cell_type": "code",
   "execution_count": 39,
   "id": "6ef6fdb6-883e-40b4-bd93-041e2c8fe804",
   "metadata": {},
   "outputs": [
    {
     "data": {
      "text/plain": [
       "{'Hari': [88, 66, 55, 44],\n",
       " 'Anup': [33, 44, 55, 66],\n",
       " 'Praful': [77, 55, 33, 88],\n",
       " 'Gauri': [66, 33, 44, 11]}"
      ]
     },
     "execution_count": 39,
     "metadata": {},
     "output_type": "execute_result"
    }
   ],
   "source": [
    "names=[\"Hari\",\"Anup\",\"Praful\",\"Gauri\",\"Radhika\"]\n",
    "marks=[[88,66,55,44],[33,44,55,66],[77,55,33,88],[66,33,44,11]]\n",
    "emp_new=dict(zip(names,marks))\n",
    "emp_new"
   ]
  },
  {
   "cell_type": "code",
   "execution_count": 40,
   "id": "25eb03ce-2053-4103-a8a4-2363a7362840",
   "metadata": {},
   "outputs": [
    {
     "name": "stdout",
     "output_type": "stream",
     "text": [
      "Anup 1\n",
      "Praful 3\n",
      "Gauri 2\n",
      "Gauri 4\n"
     ]
    }
   ],
   "source": [
    "for k,v in emp_new.items():\n",
    "    for i in v:\n",
    "        if i<40:\n",
    "            print(k,v.index(i)+1)"
   ]
  },
  {
   "cell_type": "code",
   "execution_count": null,
   "id": "9039b6db-6c36-4c7f-a372-c47ba9c8fa02",
   "metadata": {},
   "outputs": [],
   "source": []
  }
 ],
 "metadata": {
  "kernelspec": {
   "display_name": "Python 3 (ipykernel)",
   "language": "python",
   "name": "python3"
  },
  "language_info": {
   "codemirror_mode": {
    "name": "ipython",
    "version": 3
   },
   "file_extension": ".py",
   "mimetype": "text/x-python",
   "name": "python",
   "nbconvert_exporter": "python",
   "pygments_lexer": "ipython3",
   "version": "3.12.0"
  }
 },
 "nbformat": 4,
 "nbformat_minor": 5
}
